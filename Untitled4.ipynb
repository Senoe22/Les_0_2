{
 "cells": [
  {
   "cell_type": "code",
   "execution_count": 3,
   "metadata": {},
   "outputs": [
    {
     "name": "stdout",
     "output_type": "stream",
     "text": [
      "Введите первую фразу - ав\n",
      "Введите вторую фразу - ва\n",
      "Фразы равной длины\n"
     ]
    }
   ],
   "source": [
    "a=input('Введите первую фразу - ')\n",
    "b=input('Введите вторую фразу - ')\n",
    "if len(a)>len(b):\n",
    "    print('Первая фраза длиннее второй')\n",
    "elif len(a)<len(b):\n",
    "    print('Вторая фраза длиннее первой')\n",
    "else:\n",
    "    print('Фразы равной длины')"
   ]
  },
  {
   "cell_type": "code",
   "execution_count": 6,
   "metadata": {},
   "outputs": [
    {
     "name": "stdout",
     "output_type": "stream",
     "text": [
      "Введите год  2000\n",
      "Високосный год\n"
     ]
    }
   ],
   "source": [
    "a=int(input('Введите год  '))\n",
    "if (a % 4 == 0) and (a % 100 != 0) or (a % 400 == 0):\n",
    "    print('Високосный год')\n",
    "else:\n",
    "    print('Обычный год')"
   ]
  },
  {
   "cell_type": "code",
   "execution_count": 9,
   "metadata": {},
   "outputs": [
    {
     "name": "stdout",
     "output_type": "stream",
     "text": [
      "Введите день месяца - 45\n",
      "Введите месяц с маленькой буквы - апрель\n",
      "Ошибка ввода даты. Попробуйте еще раз\n"
     ]
    }
   ],
   "source": [
    "a=int(input('Введите день месяца - '))\n",
    "b=input('Введите месяц с маленькой буквы - ')\n",
    "if a > 0 and a < 31:\n",
    "    if (b == 'март' and a >= 21) or (b == 'апрель' and a <= 19):\n",
    "        print('овен')\n",
    "    if (b == 'апрель' and a >= 20) or (b == 'май' and a <= 20):\n",
    "        print('телец')\n",
    "    if (b == 'май' and a >= 21) or (b == 'июнь' and a <= 21):\n",
    "        print('близнецы')\n",
    "    if (b == 'июнь' and a >= 22) or (b == 'июль' and a <= 22):\n",
    "        print('рак')\n",
    "    if (b == 'июль' and a >= 22) or (b == 'август' and a <= 22):\n",
    "        print('лев')\n",
    "    if (b == 'август' and a >= 23) or (b == 'сентябрь' and a <= 22):\n",
    "        print('дева')\n",
    "    if (b == 'сентябрь' and a >= 23) or (b == 'октябрь' and a <= 23):\n",
    "        print('весы')\n",
    "    if (b == 'октябрь' and a >= 24) or (b == 'ноябрь' and a <= 22):\n",
    "        print('скорпион')\n",
    "    if (b == 'ноябрь' and a >= 23) or (b == 'декабрь' and a <= 21):\n",
    "        print('стрелец')\n",
    "    if (b == 'декабрь' and a >= 22) or (b == 'январь' and a <= 20):\n",
    "        print('козерог')\n",
    "    if (b == 'январь' and a >= 21) or (b == 'февраль' and a <= 18):\n",
    "        print('водолей')\n",
    "    if (b == 'февраль' and a >= 19) or (b == 'март' and a <= 20):\n",
    "        print('рыбы')\n",
    "else:\n",
    "    print('Ошибка ввода даты. Попробуйте еще раз')\n",
    "    "
   ]
  },
  {
   "cell_type": "code",
   "execution_count": 17,
   "metadata": {},
   "outputs": [
    {
     "name": "stdout",
     "output_type": "stream",
     "text": [
      "Введите ширину товара в см - 60\n",
      "Введите длину товара в см - 60\n",
      "Введите высоту товара в см - 60\n",
      "Стандартная коробка\n"
     ]
    }
   ],
   "source": [
    "w=int(input('Введите ширину товара в см - '))\n",
    "l=int(input('Введите длину товара в см - '))\n",
    "h=int(input('Введите высоту товара в см - '))\n",
    "if w < 15 and l < 15 and h < 15:\n",
    "    print('Коробка 1')\n",
    "elif w < 50 and l < 50 and h < 50 and w > 0 and l > 0 and h > 0:\n",
    "    print('Коробка 2')\n",
    "elif l >= 200:\n",
    "    print('Упаковка для лыж')\n",
    "else:\n",
    "    print('Стандартная коробка')"
   ]
  }
 ],
 "metadata": {
  "kernelspec": {
   "display_name": "Python 3",
   "language": "python",
   "name": "python3"
  },
  "language_info": {
   "codemirror_mode": {
    "name": "ipython",
    "version": 3
   },
   "file_extension": ".py",
   "mimetype": "text/x-python",
   "name": "python",
   "nbconvert_exporter": "python",
   "pygments_lexer": "ipython3",
   "version": "3.8.3"
  }
 },
 "nbformat": 4,
 "nbformat_minor": 4
}
